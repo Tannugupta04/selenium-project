{
 "cells": [
  {
   "cell_type": "code",
   "execution_count": 1,
   "id": "8bbdc18b",
   "metadata": {},
   "outputs": [],
   "source": [
    "from selenium import webdriver\n",
    "from selenium.webdriver.common.keys import Keys#ths key can be usd to rpess any diff kind of key on the keyboard\n"
   ]
  },
  {
   "cell_type": "code",
   "execution_count": 2,
   "id": "a9939f62",
   "metadata": {},
   "outputs": [],
   "source": [
    "driver=webdriver.Chrome()\n",
    "driver.get(\"https://www.google.com/\")\n",
    "#fetching data using id\n"
   ]
  },
  {
   "cell_type": "code",
   "execution_count": 3,
   "id": "71a5f4f3",
   "metadata": {},
   "outputs": [],
   "source": [
    "element=driver.find_element(\"id\",\"APjFqb\")\n"
   ]
  },
  {
   "cell_type": "code",
   "execution_count": 4,
   "id": "395eca49",
   "metadata": {},
   "outputs": [],
   "source": [
    "element.send_keys(\"You Tube\")\n",
    "# as  soom as i do this world best chcoloates will be available on the text area"
   ]
  },
  {
   "cell_type": "code",
   "execution_count": 5,
   "id": "39a16a9d",
   "metadata": {},
   "outputs": [],
   "source": [
    "# to do search or to press enter\n",
    "element.send_keys(Keys.ENTER)"
   ]
  },
  {
   "cell_type": "code",
   "execution_count": null,
   "id": "232f580e",
   "metadata": {},
   "outputs": [],
   "source": []
  }
 ],
 "metadata": {
  "kernelspec": {
   "display_name": "Python 3 (ipykernel)",
   "language": "python",
   "name": "python3"
  },
  "language_info": {
   "codemirror_mode": {
    "name": "ipython",
    "version": 3
   },
   "file_extension": ".py",
   "mimetype": "text/x-python",
   "name": "python",
   "nbconvert_exporter": "python",
   "pygments_lexer": "ipython3",
   "version": "3.11.5"
  }
 },
 "nbformat": 4,
 "nbformat_minor": 5
}
