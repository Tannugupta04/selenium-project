{
 "cells": [
  {
   "cell_type": "markdown",
   "id": "5d5fdbac",
   "metadata": {},
   "source": [
    "## Radio buttons,checkboxes and dropdowns\n",
    "\n",
    "- In web application ,forms play a crucial role in user interactions.They allow users to provode input ,make sekections and submit daata\n",
    "- We will on three commonly encountered form elements:\n",
    "- 1.radio buttons\n",
    "- 2. checkboxes\n",
    "- 3. dropdowns\n",
    "\n",
    "### Radio buttons:\n",
    "- used for selecting one option from a group of mutually exclusove options\n",
    "- Locate radio button element by ID,name,CSS selector ,or Xpath\n",
    "- Use click() method to select desired options\n",
    "\n",
    "### checkboxes\n",
    "- used for selecting multipple option from a gropup of choices\n",
    "- locate checkbox element similar to radio buttons\n",
    "- use click() method to togg;e selection\n",
    "- check current state using is_selected() method\n",
    "\n",
    "### dropdowns Menus:\n",
    "- used for selectting an option from a list\n",
    "- locate dropdown element\n",
    "- use select class provided b y selenium\n",
    "- perfrom operations like selecting value, index or visible text\n",
    " \n",
    " \n",
    "# working with  the form element\n",
    "https://artoftesting.com/samplesiteforselenium \n",
    "this is the website we will be using here\n"
   ]
  },
  {
   "cell_type": "code",
   "execution_count": 61,
   "id": "d7fefd32",
   "metadata": {},
   "outputs": [],
   "source": [
    "from selenium.webdriver.support.select import Select\n",
    "from selenium import webdriver\n",
    "import time\n",
    "\n"
   ]
  },
  {
   "cell_type": "code",
   "execution_count": 62,
   "id": "40d9bda5",
   "metadata": {},
   "outputs": [],
   "source": [
    "driver=webdriver.Chrome()\n",
    "driver.get(\"https://artoftesting.com/samplesiteforselenium\")\n",
    "\n",
    "\n",
    "\n"
   ]
  },
  {
   "cell_type": "markdown",
   "id": "775c9444",
   "metadata": {},
   "source": [
    "## Radio button"
   ]
  },
  {
   "cell_type": "code",
   "execution_count": 63,
   "id": "1f2961c8",
   "metadata": {},
   "outputs": [
    {
     "data": {
      "text/plain": [
       "[<selenium.webdriver.remote.webelement.WebElement (session=\"f51a5e181fe082630737b0d6630b3e85\", element=\"f.C0D485D799530754EFAB4A76EF6F0E66.d.18458660333E789C3B9935F5846A0835.e.33\")>,\n",
       " <selenium.webdriver.remote.webelement.WebElement (session=\"f51a5e181fe082630737b0d6630b3e85\", element=\"f.C0D485D799530754EFAB4A76EF6F0E66.d.18458660333E789C3B9935F5846A0835.e.27\")>,\n",
       " <selenium.webdriver.remote.webelement.WebElement (session=\"f51a5e181fe082630737b0d6630b3e85\", element=\"f.C0D485D799530754EFAB4A76EF6F0E66.d.18458660333E789C3B9935F5846A0835.e.29\")>,\n",
       " <selenium.webdriver.remote.webelement.WebElement (session=\"f51a5e181fe082630737b0d6630b3e85\", element=\"f.C0D485D799530754EFAB4A76EF6F0E66.d.18458660333E789C3B9935F5846A0835.e.30\")>,\n",
       " <selenium.webdriver.remote.webelement.WebElement (session=\"f51a5e181fe082630737b0d6630b3e85\", element=\"f.C0D485D799530754EFAB4A76EF6F0E66.d.18458660333E789C3B9935F5846A0835.e.32\")>,\n",
       " <selenium.webdriver.remote.webelement.WebElement (session=\"f51a5e181fe082630737b0d6630b3e85\", element=\"f.C0D485D799530754EFAB4A76EF6F0E66.d.18458660333E789C3B9935F5846A0835.e.25\")>]"
      ]
     },
     "execution_count": 63,
     "metadata": {},
     "output_type": "execute_result"
    }
   ],
   "source": [
    "driver.find_elements(\"tag name\",\"input\")"
   ]
  },
  {
   "cell_type": "code",
   "execution_count": 64,
   "id": "208e4c51",
   "metadata": {},
   "outputs": [
    {
     "name": "stdout",
     "output_type": "stream",
     "text": [
      "text\n",
      "radio\n",
      "radio\n",
      "checkbox\n",
      "checkbox\n",
      "search\n"
     ]
    }
   ],
   "source": [
    "# now we want to fetch all the attributes\n",
    "for element in  driver.find_elements(\"tag name\",\"input\"):\n",
    "    print(element.get_attribute(\"type\"))\n",
    "    "
   ]
  },
  {
   "cell_type": "code",
   "execution_count": 65,
   "id": "ff32b327",
   "metadata": {},
   "outputs": [
    {
     "name": "stdout",
     "output_type": "stream",
     "text": [
      "male\n",
      "female\n"
     ]
    }
   ],
   "source": [
    "# now we only want the radio button\n",
    "for element in  driver.find_elements(\"tag name\",\"input\"):\n",
    "    if element.get_attribute(\"type\")=='radio':\n",
    "        print(element.get_attribute(\"value\"))\n",
    "    "
   ]
  },
  {
   "cell_type": "code",
   "execution_count": 45,
   "id": "f73b3941",
   "metadata": {},
   "outputs": [],
   "source": [
    "# to select one of them we ccan press then by using the click command\n",
    "radio_male=None\n",
    "for element in  driver.find_elements(\"tag name\",\"input\"):\n",
    "    if element.get_attribute(\"type\")=='radio':\n",
    "        if element.get_attribute(\"value\")=='male':\n",
    "            radio_male=element\n",
    "            "
   ]
  },
  {
   "cell_type": "code",
   "execution_count": 46,
   "id": "ba31242c",
   "metadata": {},
   "outputs": [],
   "source": [
    "radio_male.click()"
   ]
  },
  {
   "cell_type": "code",
   "execution_count": 66,
   "id": "d3088f86",
   "metadata": {},
   "outputs": [],
   "source": [
    "# lest say i want to select female\n",
    "\n",
    "radio_female=None\n",
    "for element in  driver.find_elements(\"tag name\",\"input\"):\n",
    "    if element.get_attribute(\"type\")=='radio':\n",
    "        if element.get_attribute(\"value\")=='female':\n",
    "            radio_female=element\n",
    "            "
   ]
  },
  {
   "cell_type": "code",
   "execution_count": 67,
   "id": "81b9909f",
   "metadata": {},
   "outputs": [],
   "source": [
    "radio_female.click()"
   ]
  },
  {
   "cell_type": "code",
   "execution_count": 68,
   "id": "665aa44f",
   "metadata": {},
   "outputs": [
    {
     "data": {
      "text/plain": [
       "True"
      ]
     },
     "execution_count": 68,
     "metadata": {},
     "output_type": "execute_result"
    }
   ],
   "source": [
    "# it has some funtions like\n",
    "radio_female.is_displayed()\n"
   ]
  },
  {
   "cell_type": "code",
   "execution_count": 69,
   "id": "7ce9a478",
   "metadata": {},
   "outputs": [
    {
     "data": {
      "text/plain": [
       "(True, True)"
      ]
     },
     "execution_count": 69,
     "metadata": {},
     "output_type": "execute_result"
    }
   ],
   "source": [
    "radio_female.is_selected(),radio_male.is_selected()"
   ]
  },
  {
   "cell_type": "markdown",
   "id": "6bf029a2",
   "metadata": {},
   "source": [
    "### checkboxes\n",
    "in radio buttons we can only slect only one option at a time but im checkboxes we can selesct more than one"
   ]
  },
  {
   "cell_type": "code",
   "execution_count": 82,
   "id": "1359f7f9",
   "metadata": {},
   "outputs": [],
   "source": [
    "performance_checkbox=None\n",
    "automation_checkbox=None\n",
    "for element in  driver.find_elements(\"tag name\",\"input\"):\n",
    "    if element.get_attribute(\"type\")=='checkbox':\n",
    "        if element.get_attribute(\"value\")=='Performance':\n",
    "            performance_checkbox=element\n",
    "            performance_checkbox.click()\n",
    "        else:\n",
    "            automation_checkbox=element\n",
    "            automation_checkbox.click()"
   ]
  },
  {
   "cell_type": "code",
   "execution_count": 90,
   "id": "3d996ac2",
   "metadata": {},
   "outputs": [],
   "source": [
    " performance_checkbox.click()"
   ]
  },
  {
   "cell_type": "code",
   "execution_count": 91,
   "id": "7869424a",
   "metadata": {},
   "outputs": [],
   "source": [
    "automation_checkbox.click()"
   ]
  },
  {
   "cell_type": "code",
   "execution_count": null,
   "id": "3ff7acca",
   "metadata": {},
   "outputs": [],
   "source": [
    "# this is how we  tht the radio buttons are dependenton each  toher\n",
    "# and the checkboxes work independently\n"
   ]
  },
  {
   "cell_type": "markdown",
   "id": "f046ed03",
   "metadata": {},
   "source": [
    "#### drop down and select "
   ]
  },
  {
   "cell_type": "code",
   "execution_count": 92,
   "id": "f6b1d479",
   "metadata": {},
   "outputs": [],
   "source": [
    "driver.find_element(\"tag name\",\"select\").click()"
   ]
  },
  {
   "cell_type": "code",
   "execution_count": 93,
   "id": "b4e1d109",
   "metadata": {},
   "outputs": [],
   "source": [
    "select_instance=Select(driver.find_element(\"tag name\",\"select\"))"
   ]
  },
  {
   "cell_type": "code",
   "execution_count": 96,
   "id": "23d356bd",
   "metadata": {},
   "outputs": [
    {
     "name": "stdout",
     "output_type": "stream",
     "text": [
      "Automation Testing Automation\n",
      "Performance Testing Performance\n",
      "Manual Testing Manual\n",
      "Database Testing Database\n"
     ]
    }
   ],
   "source": [
    "# now we have 4 opttion in the dropdown # lets see hpw these options look like\n",
    "for option in select_instance.options:\n",
    "    print(option.text,option.get_attribute(\"value\"))"
   ]
  },
  {
   "cell_type": "code",
   "execution_count": 97,
   "id": "1dd5f70e",
   "metadata": {},
   "outputs": [],
   "source": [
    "# to selsect the option \n",
    "# we have seleect by index\n",
    "#selsct_by_value: value related to that option\n",
    "#select by_visible_text: automation testing\n",
    "#select_instance\n",
    "\n",
    "\n",
    "#####################################################################\n",
    "#Automation Testing Automation:value=automation\n",
    "#Performance Testing Performance: value=performance\n",
    "#Manual Testing Manual: value=manual\n",
    "#Database Testing Database: value=Database\n"
   ]
  },
  {
   "cell_type": "code",
   "execution_count": 103,
   "id": "fdd4b515",
   "metadata": {},
   "outputs": [],
   "source": [
    "select_instance.select_by_index(1)"
   ]
  },
  {
   "cell_type": "code",
   "execution_count": 104,
   "id": "9a04c76a",
   "metadata": {},
   "outputs": [],
   "source": [
    "# now i want to select by value\n",
    "select_instance.select_by_value(\"Database\")"
   ]
  },
  {
   "cell_type": "code",
   "execution_count": 105,
   "id": "4ca353aa",
   "metadata": {},
   "outputs": [],
   "source": [
    "select_instance.select_by_visible_text(\"Manual Testing\")"
   ]
  },
  {
   "cell_type": "code",
   "execution_count": null,
   "id": "4160a425",
   "metadata": {},
   "outputs": [],
   "source": []
  }
 ],
 "metadata": {
  "kernelspec": {
   "display_name": "Python 3 (ipykernel)",
   "language": "python",
   "name": "python3"
  },
  "language_info": {
   "codemirror_mode": {
    "name": "ipython",
    "version": 3
   },
   "file_extension": ".py",
   "mimetype": "text/x-python",
   "name": "python",
   "nbconvert_exporter": "python",
   "pygments_lexer": "ipython3",
   "version": "3.11.5"
  }
 },
 "nbformat": 4,
 "nbformat_minor": 5
}
